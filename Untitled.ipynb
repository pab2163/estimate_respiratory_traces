{
 "cells": [
  {
   "cell_type": "code",
   "execution_count": 1,
   "metadata": {},
   "outputs": [],
   "source": [
    "from pathlib import Path\n",
    "import pandas as pd\n",
    "import numpy as np\n",
    "import matplotlib.pyplot as plt\n",
    "from scipy import signal"
   ]
  },
  {
   "cell_type": "code",
   "execution_count": 2,
   "metadata": {},
   "outputs": [],
   "source": [
    "l = list(Path(\"./data/ran_data/rest-1400/\").glob(\"*filtered.1D\"))"
   ]
  },
  {
   "cell_type": "code",
   "execution_count": 3,
   "metadata": {},
   "outputs": [],
   "source": [
    "hz = 1/(1.4/16)"
   ]
  },
  {
   "cell_type": "code",
   "execution_count": 4,
   "metadata": {},
   "outputs": [],
   "source": [
    "def extract_max_freq(resp_trace, sampling_rate):\n",
    "    fourier_transform = np.fft.rfft(resp_trace)\n",
    "    abs_fourier_transform = np.abs(fourier_transform)\n",
    "    power_spectrum = np.square(abs_fourier_transform)\n",
    "    frequency = np.linspace(0, sampling_rate/2, len(power_spectrum))\n",
    "    assert len(power_spectrum) == len(frequency)\n",
    "    #plt.plot(frequency, power_spectrum)\n",
    "    #plt.xlim(0, 1)\n",
    "    #plt.show()\n",
    "    return frequency[np.argmax(power_spectrum)]"
   ]
  },
  {
   "cell_type": "code",
   "execution_count": 5,
   "metadata": {},
   "outputs": [],
   "source": [
    "df_list = []\n",
    "for i in l:\n",
    "    subj, sess, task, imtype, _, _ = i.name.split(\"_\")\n",
    "    max_freq = extract_max_freq(np.genfromtxt(i), hz)\n",
    "    df_list.append({\n",
    "        \"subj\":subj,\n",
    "        \"sess\":sess,\n",
    "        \"task\":task,\n",
    "        \"imtype\":imtype,\n",
    "        \"max_freq\":max_freq\n",
    "    })"
   ]
  },
  {
   "cell_type": "code",
   "execution_count": 6,
   "metadata": {},
   "outputs": [],
   "source": [
    "df = pd.DataFrame(df_list)"
   ]
  },
  {
   "cell_type": "code",
   "execution_count": 7,
   "metadata": {},
   "outputs": [
    {
     "data": {
      "text/plain": [
       "<matplotlib.axes._subplots.AxesSubplot at 0x7f50ee8890b8>"
      ]
     },
     "execution_count": 7,
     "metadata": {},
     "output_type": "execute_result"
    },
    {
     "data": {
      "image/png": "[encoded data removed]",
      "text/plain": [
       "<Figure size 432x288 with 1 Axes>"
      ]
     },
     "metadata": {
      "needs_background": "light"
     },
     "output_type": "display_data"
    }
   ],
   "source": [
    "df.boxplot()"
   ]
  },
  {
   "cell_type": "code",
   "execution_count": 8,
   "metadata": {},
   "outputs": [
    {
     "data": {
      "text/plain": [
       "array([[<matplotlib.axes._subplots.AxesSubplot object at 0x7f50eeafc400>]],\n",
       "      dtype=object)"
      ]
     },
     "execution_count": 8,
     "metadata": {},
     "output_type": "execute_result"
    },
    {
     "data": {
      "image/png": "[encoded data removed]",
      "text/plain": [
       "<Figure size 432x288 with 1 Axes>"
      ]
     },
     "metadata": {
      "needs_background": "light"
     },
     "output_type": "display_data"
    }
   ],
   "source": [
    "df.hist()"
   ]
  },
  {
   "cell_type": "code",
   "execution_count": 9,
   "metadata": {},
   "outputs": [],
   "source": [
    "physio_files = list(Path(\"/home/rlim/proj/run_3dretroicor/data/physio_files_raw\").glob(\"*rest_acq-1400*tsv\"))"
   ]
  },
  {
   "cell_type": "code",
   "execution_count": 10,
   "metadata": {},
   "outputs": [],
   "source": [
    "def butter_bandpass(lowcut, highcut, fs, order=3):\n",
    "    nyq = 0.5 * fs\n",
    "    low = lowcut / nyq\n",
    "    high = highcut / nyq\n",
    "    b, a = signal.butter(order, [low, high], btype='band')\n",
    "    return b, a\n",
    "\n",
    "\n",
    "def butter_bandpass_filter(data, lowcut, highcut, fs, order=3):\n",
    "    b, a = butter_bandpass(lowcut, highcut, fs, order=order)\n",
    "    y = signal.filtfilt(b, a, data)\n",
    "    return y\n"
   ]
  },
  {
   "cell_type": "code",
   "execution_count": 11,
   "metadata": {},
   "outputs": [],
   "source": [
    "phys_list = []\n",
    "for physio_file in physio_files:\n",
    "    f = np.genfromtxt(physio_file)\n",
    "    subj, sess, task, imtype, _, _ = physio_file.name.split(\"_\")\n",
    "    f = f-f.mean()\n",
    "    max_freq_orig = extract_max_freq(f, 62.5)\n",
    "    f = butter_bandpass_filter(f, 0.15, 0.6, 62.5)\n",
    "    max_freq = extract_max_freq(f, 62.5)\n",
    "    phys_list.append({\n",
    "        \"subj\":subj,\n",
    "        \"sess\":sess,\n",
    "        \"task\":task,\n",
    "        \"imtype\":imtype,\n",
    "        \"max_freq\":max_freq,\n",
    "        \"max_freq_orig\": max_freq_orig\n",
    "    })"
   ]
  },
  {
   "cell_type": "code",
   "execution_count": 12,
   "metadata": {},
   "outputs": [],
   "source": [
    "phys = pd.DataFrame(phys_list)"
   ]
  },
  {
   "cell_type": "code",
   "execution_count": 13,
   "metadata": {},
   "outputs": [
    {
     "data": {
      "text/html": [
       "<div>\n",
       "<style scoped>\n",
       "    .dataframe tbody tr th:only-of-type {\n",
       "        vertical-align: middle;\n",
       "    }\n",
       "\n",
       "    .dataframe tbody tr th {\n",
       "        vertical-align: top;\n",
       "    }\n",
       "\n",
       "    .dataframe thead th {\n",
       "        text-align: right;\n",
       "    }\n",
       "</style>\n",
       "<table border=\"1\" class=\"dataframe\">\n",
       "  <thead>\n",
       "    <tr style=\"text-align: right;\">\n",
       "      <th></th>\n",
       "      <th>subj</th>\n",
       "      <th>sess</th>\n",
       "      <th>task</th>\n",
       "      <th>imtype</th>\n",
       "      <th>max_freq</th>\n",
       "      <th>max_freq_orig</th>\n",
       "    </tr>\n",
       "  </thead>\n",
       "  <tbody>\n",
       "    <tr>\n",
       "      <th>0</th>\n",
       "      <td>sub-A00028694</td>\n",
       "      <td>ses-BAS1</td>\n",
       "      <td>task-rest</td>\n",
       "      <td>acq-1400</td>\n",
       "      <td>0.371287</td>\n",
       "      <td>0.371287</td>\n",
       "    </tr>\n",
       "    <tr>\n",
       "      <th>1</th>\n",
       "      <td>sub-A00044370</td>\n",
       "      <td>ses-BAS1</td>\n",
       "      <td>task-rest</td>\n",
       "      <td>acq-1400</td>\n",
       "      <td>0.286421</td>\n",
       "      <td>0.286421</td>\n",
       "    </tr>\n",
       "    <tr>\n",
       "      <th>2</th>\n",
       "      <td>sub-A00037125</td>\n",
       "      <td>ses-BAS1</td>\n",
       "      <td>task-rest</td>\n",
       "      <td>acq-1400</td>\n",
       "      <td>0.355375</td>\n",
       "      <td>0.001768</td>\n",
       "    </tr>\n",
       "    <tr>\n",
       "      <th>3</th>\n",
       "      <td>sub-A00034987</td>\n",
       "      <td>ses-BAS1</td>\n",
       "      <td>task-rest</td>\n",
       "      <td>acq-1400</td>\n",
       "      <td>0.291726</td>\n",
       "      <td>0.291726</td>\n",
       "    </tr>\n",
       "    <tr>\n",
       "      <th>4</th>\n",
       "      <td>sub-A00082590</td>\n",
       "      <td>ses-BAS1</td>\n",
       "      <td>task-rest</td>\n",
       "      <td>acq-1400</td>\n",
       "      <td>0.247525</td>\n",
       "      <td>0.247525</td>\n",
       "    </tr>\n",
       "  </tbody>\n",
       "</table>\n",
       "</div>"
      ],
      "text/plain": [
       "            subj      sess       task    imtype  max_freq  max_freq_orig\n",
       "0  sub-A00028694  ses-BAS1  task-rest  acq-1400  0.371287       0.371287\n",
       "1  sub-A00044370  ses-BAS1  task-rest  acq-1400  0.286421       0.286421\n",
       "2  sub-A00037125  ses-BAS1  task-rest  acq-1400  0.355375       0.001768\n",
       "3  sub-A00034987  ses-BAS1  task-rest  acq-1400  0.291726       0.291726\n",
       "4  sub-A00082590  ses-BAS1  task-rest  acq-1400  0.247525       0.247525"
      ]
     },
     "execution_count": 13,
     "metadata": {},
     "output_type": "execute_result"
    }
   ],
   "source": [
    "phys.head()"
   ]
  },
  {
   "cell_type": "code",
   "execution_count": 14,
   "metadata": {},
   "outputs": [],
   "source": [
    "merged = df.merge(phys, on=[\"subj\", \"sess\", \"task\", \"imtype\"])"
   ]
  },
  {
   "cell_type": "code",
   "execution_count": 15,
   "metadata": {},
   "outputs": [
    {
     "data": {
      "text/plain": [
       "(199, 187, 2172)"
      ]
     },
     "execution_count": 15,
     "metadata": {},
     "output_type": "execute_result"
    }
   ],
   "source": [
    "len(df), len(merged), len(phys)"
   ]
  },
  {
   "cell_type": "code",
   "execution_count": 16,
   "metadata": {},
   "outputs": [],
   "source": [
    "merged.columns = [\"subj\", \"sess\", \"task\", \"imtype\", \"predicted\", \"phys_record\", \"max_freq_orig\"]"
   ]
  },
  {
   "cell_type": "code",
   "execution_count": 17,
   "metadata": {
    "scrolled": true
   },
   "outputs": [
    {
     "data": {
      "image/png": "[encoded data removed]",
      "text/plain": [
       "<Figure size 432x288 with 1 Axes>"
      ]
     },
     "metadata": {
      "needs_background": "light"
     },
     "output_type": "display_data"
    }
   ],
   "source": [
    "plt.scatter(merged.predicted, merged.phys_record)\n",
    "plt.plot([-0, 1], [-0, 1], ls=\"--\", c=\".3\")\n",
    "plt.ylim(0, 0.5)\n",
    "plt.xlim(0, 0.5)\n",
    "plt.xlabel(\"predicted max freq\")\n",
    "plt.ylabel(\"recorded max freq\")\n",
    "plt.title(\"Rest 1400 predicted max freq vs recorded max freq\")\n",
    "plt.show()\n"
   ]
  },
  {
   "cell_type": "code",
   "execution_count": 18,
   "metadata": {},
   "outputs": [],
   "source": [
    "hz_645 = 1/(0.645/10)"
   ]
  },
  {
   "cell_type": "code",
   "execution_count": 19,
   "metadata": {},
   "outputs": [],
   "source": [
    "l = list(Path(\"./data/ran_data/rest-645/\").glob(\"*filtered.1D\"))\n",
    "for i in l:\n",
    "    subj, sess, task, imtype, _, _ = i.name.split(\"_\")\n",
    "    max_freq = extract_max_freq(np.genfromtxt(i), hz_645)\n",
    "    df_list.append({\n",
    "        \"subj\":subj,\n",
    "        \"sess\":sess,\n",
    "        \"task\":task,\n",
    "        \"imtype\":imtype,\n",
    "        \"max_freq\":max_freq\n",
    "    })\n",
    "physio_files = list(Path(\"/home/rlim/proj/run_3dretroicor/data/physio_files_raw\").glob(\"*rest_acq-645*tsv\"))\n",
    "for physio_file in physio_files:\n",
    "    f = np.genfromtxt(physio_file)\n",
    "    subj, sess, task, imtype, _, _ = physio_file.name.split(\"_\")\n",
    "    f = f-f.mean()\n",
    "    max_freq_orig = extract_max_freq(f, 62.5)\n",
    "    f = butter_bandpass_filter(f, 0.15, 0.6, 62.5)\n",
    "    max_freq = extract_max_freq(f, 62.5)\n",
    "    phys_list.append({\n",
    "        \"subj\":subj,\n",
    "        \"sess\":sess,\n",
    "        \"task\":task,\n",
    "        \"imtype\":imtype,\n",
    "        \"max_freq\":max_freq,\n",
    "        \"max_freq_orig\":max_freq_orig\n",
    "    })"
   ]
  },
  {
   "cell_type": "code",
   "execution_count": 20,
   "metadata": {},
   "outputs": [
    {
     "data": {
      "text/plain": [
       "array([[<matplotlib.axes._subplots.AxesSubplot object at 0x7f50ebb88f28>,\n",
       "        <matplotlib.axes._subplots.AxesSubplot object at 0x7f50eb9f9860>]],\n",
       "      dtype=object)"
      ]
     },
     "execution_count": 20,
     "metadata": {},
     "output_type": "execute_result"
    },
    {
     "data": {
      "image/png": "[encoded data removed]",
      "text/plain": [
       "<Figure size 432x288 with 2 Axes>"
      ]
     },
     "metadata": {
      "needs_background": "light"
     },
     "output_type": "display_data"
    }
   ],
   "source": [
    "phys.hist()"
   ]
  },
  {
   "cell_type": "code",
   "execution_count": 21,
   "metadata": {},
   "outputs": [],
   "source": [
    "phys = pd.DataFrame(phys_list)\n",
    "df = pd.DataFrame(df_list)"
   ]
  },
  {
   "cell_type": "code",
   "execution_count": 22,
   "metadata": {},
   "outputs": [],
   "source": [
    "merged = df.merge(phys, on=[\"subj\", \"sess\", \"task\", \"imtype\"])\n",
    "merged.columns = [\"subj\", \"sess\", \"task\", \"imtype\", \"predicted\", \"phys_record\", \"max_freq_orig\"]"
   ]
  },
  {
   "cell_type": "code",
   "execution_count": 23,
   "metadata": {},
   "outputs": [
    {
     "data": {
      "text/plain": [
       "{'acq-1400', 'acq-645'}"
      ]
     },
     "execution_count": 23,
     "metadata": {},
     "output_type": "execute_result"
    }
   ],
   "source": [
    "set(merged.imtype)"
   ]
  },
  {
   "cell_type": "code",
   "execution_count": 24,
   "metadata": {},
   "outputs": [],
   "source": [
    "rest_1400 = merged[merged.imtype==\"acq-1400\"]\n",
    "rest_645 = merged[merged.imtype==\"acq-645\"]"
   ]
  },
  {
   "cell_type": "code",
   "execution_count": 25,
   "metadata": {},
   "outputs": [
    {
     "data": {
      "text/html": [
       "<div>\n",
       "<style scoped>\n",
       "    .dataframe tbody tr th:only-of-type {\n",
       "        vertical-align: middle;\n",
       "    }\n",
       "\n",
       "    .dataframe tbody tr th {\n",
       "        vertical-align: top;\n",
       "    }\n",
       "\n",
       "    .dataframe thead th {\n",
       "        text-align: right;\n",
       "    }\n",
       "</style>\n",
       "<table border=\"1\" class=\"dataframe\">\n",
       "  <thead>\n",
       "    <tr style=\"text-align: right;\">\n",
       "      <th></th>\n",
       "      <th>subj</th>\n",
       "      <th>sess</th>\n",
       "      <th>task</th>\n",
       "      <th>imtype</th>\n",
       "      <th>predicted</th>\n",
       "      <th>phys_record</th>\n",
       "      <th>max_freq_orig</th>\n",
       "    </tr>\n",
       "  </thead>\n",
       "  <tbody>\n",
       "    <tr>\n",
       "      <th>0</th>\n",
       "      <td>sub-A00056097</td>\n",
       "      <td>ses-BAS1</td>\n",
       "      <td>task-rest</td>\n",
       "      <td>acq-1400</td>\n",
       "      <td>0.328854</td>\n",
       "      <td>0.328854</td>\n",
       "      <td>0.328854</td>\n",
       "    </tr>\n",
       "    <tr>\n",
       "      <th>1</th>\n",
       "      <td>sub-A00031881</td>\n",
       "      <td>ses-BAS1</td>\n",
       "      <td>task-rest</td>\n",
       "      <td>acq-1400</td>\n",
       "      <td>0.259901</td>\n",
       "      <td>0.254597</td>\n",
       "      <td>0.254597</td>\n",
       "    </tr>\n",
       "    <tr>\n",
       "      <th>2</th>\n",
       "      <td>sub-A00083162</td>\n",
       "      <td>ses-FLU1</td>\n",
       "      <td>task-rest</td>\n",
       "      <td>acq-1400</td>\n",
       "      <td>0.252829</td>\n",
       "      <td>0.252829</td>\n",
       "      <td>0.252829</td>\n",
       "    </tr>\n",
       "    <tr>\n",
       "      <th>3</th>\n",
       "      <td>sub-A00039635</td>\n",
       "      <td>ses-BAS1</td>\n",
       "      <td>task-rest</td>\n",
       "      <td>acq-1400</td>\n",
       "      <td>0.205092</td>\n",
       "      <td>0.205092</td>\n",
       "      <td>0.042433</td>\n",
       "    </tr>\n",
       "    <tr>\n",
       "      <th>4</th>\n",
       "      <td>sub-A00063589</td>\n",
       "      <td>ses-BAS1</td>\n",
       "      <td>task-rest</td>\n",
       "      <td>acq-1400</td>\n",
       "      <td>0.318246</td>\n",
       "      <td>0.318246</td>\n",
       "      <td>0.318246</td>\n",
       "    </tr>\n",
       "    <tr>\n",
       "      <th>...</th>\n",
       "      <td>...</td>\n",
       "      <td>...</td>\n",
       "      <td>...</td>\n",
       "      <td>...</td>\n",
       "      <td>...</td>\n",
       "      <td>...</td>\n",
       "      <td>...</td>\n",
       "    </tr>\n",
       "    <tr>\n",
       "      <th>182</th>\n",
       "      <td>sub-A00055352</td>\n",
       "      <td>ses-BAS1</td>\n",
       "      <td>task-rest</td>\n",
       "      <td>acq-1400</td>\n",
       "      <td>0.204082</td>\n",
       "      <td>0.219236</td>\n",
       "      <td>0.219236</td>\n",
       "    </tr>\n",
       "    <tr>\n",
       "      <th>183</th>\n",
       "      <td>sub-A00066584</td>\n",
       "      <td>ses-TRT</td>\n",
       "      <td>task-rest</td>\n",
       "      <td>acq-1400</td>\n",
       "      <td>0.243989</td>\n",
       "      <td>0.243989</td>\n",
       "      <td>0.243989</td>\n",
       "    </tr>\n",
       "    <tr>\n",
       "      <th>184</th>\n",
       "      <td>sub-A00081725</td>\n",
       "      <td>ses-BAS1</td>\n",
       "      <td>task-rest</td>\n",
       "      <td>acq-1400</td>\n",
       "      <td>0.252829</td>\n",
       "      <td>0.252829</td>\n",
       "      <td>0.252829</td>\n",
       "    </tr>\n",
       "    <tr>\n",
       "      <th>185</th>\n",
       "      <td>sub-A00058229</td>\n",
       "      <td>ses-TRT</td>\n",
       "      <td>task-rest</td>\n",
       "      <td>acq-1400</td>\n",
       "      <td>0.196252</td>\n",
       "      <td>0.256365</td>\n",
       "      <td>0.001768</td>\n",
       "    </tr>\n",
       "    <tr>\n",
       "      <th>186</th>\n",
       "      <td>sub-A00065250</td>\n",
       "      <td>ses-BAS1</td>\n",
       "      <td>task-rest</td>\n",
       "      <td>acq-1400</td>\n",
       "      <td>0.199788</td>\n",
       "      <td>0.275813</td>\n",
       "      <td>0.275813</td>\n",
       "    </tr>\n",
       "  </tbody>\n",
       "</table>\n",
       "<p>187 rows × 7 columns</p>\n",
       "</div>"
      ],
      "text/plain": [
       "              subj      sess       task    imtype  predicted  phys_record  \\\n",
       "0    sub-A00056097  ses-BAS1  task-rest  acq-1400   0.328854     0.328854   \n",
       "1    sub-A00031881  ses-BAS1  task-rest  acq-1400   0.259901     0.254597   \n",
       "2    sub-A00083162  ses-FLU1  task-rest  acq-1400   0.252829     0.252829   \n",
       "3    sub-A00039635  ses-BAS1  task-rest  acq-1400   0.205092     0.205092   \n",
       "4    sub-A00063589  ses-BAS1  task-rest  acq-1400   0.318246     0.318246   \n",
       "..             ...       ...        ...       ...        ...          ...   \n",
       "182  sub-A00055352  ses-BAS1  task-rest  acq-1400   0.204082     0.219236   \n",
       "183  sub-A00066584   ses-TRT  task-rest  acq-1400   0.243989     0.243989   \n",
       "184  sub-A00081725  ses-BAS1  task-rest  acq-1400   0.252829     0.252829   \n",
       "185  sub-A00058229   ses-TRT  task-rest  acq-1400   0.196252     0.256365   \n",
       "186  sub-A00065250  ses-BAS1  task-rest  acq-1400   0.199788     0.275813   \n",
       "\n",
       "     max_freq_orig  \n",
       "0         0.328854  \n",
       "1         0.254597  \n",
       "2         0.252829  \n",
       "3         0.042433  \n",
       "4         0.318246  \n",
       "..             ...  \n",
       "182       0.219236  \n",
       "183       0.243989  \n",
       "184       0.252829  \n",
       "185       0.001768  \n",
       "186       0.275813  \n",
       "\n",
       "[187 rows x 7 columns]"
      ]
     },
     "execution_count": 25,
     "metadata": {},
     "output_type": "execute_result"
    }
   ],
   "source": [
    "rest_1400"
   ]
  },
  {
   "cell_type": "code",
   "execution_count": 26,
   "metadata": {},
   "outputs": [
    {
     "data": {
      "image/png": "[encoded data removed]",
      "text/plain": [
       "<Figure size 432x288 with 1 Axes>"
      ]
     },
     "metadata": {
      "needs_background": "light"
     },
     "output_type": "display_data"
    }
   ],
   "source": [
    "plt.scatter(rest_1400.predicted, rest_1400.phys_record)\n",
    "plt.plot([-0, 1], [-0, 1], ls=\"--\", c=\".3\")\n",
    "plt.ylim(0, 0.5)\n",
    "plt.xlim(0, 0.5)\n",
    "plt.xlabel(\"predicted max freq\")\n",
    "plt.ylabel(\"recorded max freq\")\n",
    "plt.title(\"Rest 1400 predicted max freq vs recorded max freq\")\n",
    "plt.savefig(\"rest_1400_pred.png\")\n",
    "plt.show()\n"
   ]
  },
  {
   "cell_type": "code",
   "execution_count": 27,
   "metadata": {},
   "outputs": [
    {
     "data": {
      "image/png": "[encoded data removed]",
      "text/plain": [
       "<Figure size 432x288 with 1 Axes>"
      ]
     },
     "metadata": {
      "needs_background": "light"
     },
     "output_type": "display_data"
    }
   ],
   "source": [
    "plt.scatter(rest_645.predicted, rest_645.phys_record)\n",
    "plt.plot([-0, 1], [-0, 1], ls=\"--\", c=\".3\")\n",
    "plt.ylim(0, 0.5)\n",
    "plt.xlim(0, 0.5)\n",
    "plt.xlabel(\"predicted max freq\")\n",
    "plt.ylabel(\"recorded max freq\")\n",
    "plt.title(\"Rest 645 predicted max freq vs recorded max freq\")\n",
    "plt.savefig(\"rest_645_pred.png\")\n",
    "plt.show()\n"
   ]
  },
  {
   "cell_type": "code",
   "execution_count": 28,
   "metadata": {},
   "outputs": [
    {
     "data": {
      "text/html": [
       "<div>\n",
       "<style scoped>\n",
       "    .dataframe tbody tr th:only-of-type {\n",
       "        vertical-align: middle;\n",
       "    }\n",
       "\n",
       "    .dataframe tbody tr th {\n",
       "        vertical-align: top;\n",
       "    }\n",
       "\n",
       "    .dataframe thead th {\n",
       "        text-align: right;\n",
       "    }\n",
       "</style>\n",
       "<table border=\"1\" class=\"dataframe\">\n",
       "  <thead>\n",
       "    <tr style=\"text-align: right;\">\n",
       "      <th></th>\n",
       "      <th>predicted</th>\n",
       "      <th>phys_record</th>\n",
       "      <th>max_freq_orig</th>\n",
       "    </tr>\n",
       "  </thead>\n",
       "  <tbody>\n",
       "    <tr>\n",
       "      <th>predicted</th>\n",
       "      <td>1.000000</td>\n",
       "      <td>0.646524</td>\n",
       "      <td>-0.047246</td>\n",
       "    </tr>\n",
       "    <tr>\n",
       "      <th>phys_record</th>\n",
       "      <td>0.646524</td>\n",
       "      <td>1.000000</td>\n",
       "      <td>-0.103610</td>\n",
       "    </tr>\n",
       "    <tr>\n",
       "      <th>max_freq_orig</th>\n",
       "      <td>-0.047246</td>\n",
       "      <td>-0.103610</td>\n",
       "      <td>1.000000</td>\n",
       "    </tr>\n",
       "  </tbody>\n",
       "</table>\n",
       "</div>"
      ],
      "text/plain": [
       "               predicted  phys_record  max_freq_orig\n",
       "predicted       1.000000     0.646524      -0.047246\n",
       "phys_record     0.646524     1.000000      -0.103610\n",
       "max_freq_orig  -0.047246    -0.103610       1.000000"
      ]
     },
     "execution_count": 28,
     "metadata": {},
     "output_type": "execute_result"
    }
   ],
   "source": [
    "rest_1400.corr()"
   ]
  },
  {
   "cell_type": "code",
   "execution_count": 29,
   "metadata": {},
   "outputs": [
    {
     "data": {
      "text/html": [
       "<div>\n",
       "<style scoped>\n",
       "    .dataframe tbody tr th:only-of-type {\n",
       "        vertical-align: middle;\n",
       "    }\n",
       "\n",
       "    .dataframe tbody tr th {\n",
       "        vertical-align: top;\n",
       "    }\n",
       "\n",
       "    .dataframe thead th {\n",
       "        text-align: right;\n",
       "    }\n",
       "</style>\n",
       "<table border=\"1\" class=\"dataframe\">\n",
       "  <thead>\n",
       "    <tr style=\"text-align: right;\">\n",
       "      <th></th>\n",
       "      <th>predicted</th>\n",
       "      <th>phys_record</th>\n",
       "      <th>max_freq_orig</th>\n",
       "    </tr>\n",
       "  </thead>\n",
       "  <tbody>\n",
       "    <tr>\n",
       "      <th>predicted</th>\n",
       "      <td>1.000000</td>\n",
       "      <td>0.735565</td>\n",
       "      <td>0.400834</td>\n",
       "    </tr>\n",
       "    <tr>\n",
       "      <th>phys_record</th>\n",
       "      <td>0.735565</td>\n",
       "      <td>1.000000</td>\n",
       "      <td>0.300623</td>\n",
       "    </tr>\n",
       "    <tr>\n",
       "      <th>max_freq_orig</th>\n",
       "      <td>0.400834</td>\n",
       "      <td>0.300623</td>\n",
       "      <td>1.000000</td>\n",
       "    </tr>\n",
       "  </tbody>\n",
       "</table>\n",
       "</div>"
      ],
      "text/plain": [
       "               predicted  phys_record  max_freq_orig\n",
       "predicted       1.000000     0.735565       0.400834\n",
       "phys_record     0.735565     1.000000       0.300623\n",
       "max_freq_orig   0.400834     0.300623       1.000000"
      ]
     },
     "execution_count": 29,
     "metadata": {},
     "output_type": "execute_result"
    }
   ],
   "source": [
    "rest_645.corr()"
   ]
  },
  {
   "cell_type": "code",
   "execution_count": 30,
   "metadata": {},
   "outputs": [
    {
     "data": {
      "text/plain": [
       "<matplotlib.axes._subplots.AxesSubplot at 0x7f50ebac9cc0>"
      ]
     },
     "execution_count": 30,
     "metadata": {},
     "output_type": "execute_result"
    },
    {
     "data": {
      "image/png": "[encoded data removed]",
      "text/plain": [
       "<Figure size 432x288 with 1 Axes>"
      ]
     },
     "metadata": {
      "needs_background": "light"
     },
     "output_type": "display_data"
    }
   ],
   "source": [
    "rest_1400[(rest_1400.phys_record > .15) & (rest_1400.phys_record < 1)].plot.scatter(\"predicted\", \"phys_record\")"
   ]
  },
  {
   "cell_type": "code",
   "execution_count": 31,
   "metadata": {},
   "outputs": [
    {
     "data": {
      "text/plain": [
       "<matplotlib.axes._subplots.AxesSubplot at 0x7f50eba24588>"
      ]
     },
     "execution_count": 31,
     "metadata": {},
     "output_type": "execute_result"
    },
    {
     "data": {
      "image/png": "[encoded data removed]",
      "text/plain": [
       "<Figure size 432x288 with 1 Axes>"
      ]
     },
     "metadata": {
      "needs_background": "light"
     },
     "output_type": "display_data"
    }
   ],
   "source": [
    "rest_645[(rest_645.phys_record > .15) & (rest_645.phys_record < 1)].plot.scatter(\"predicted\", \"phys_record\")"
   ]
  },
  {
   "cell_type": "code",
   "execution_count": 38,
   "metadata": {},
   "outputs": [
    {
     "data": {
      "text/plain": [
       "<matplotlib.axes._subplots.AxesSubplot at 0x7f50eb91e1d0>"
      ]
     },
     "execution_count": 38,
     "metadata": {},
     "output_type": "execute_result"
    },
    {
     "data": {
      "image/png": "[encoded data removed]",
      "text/plain": [
       "<Figure size 432x288 with 1 Axes>"
      ]
     },
     "metadata": {
      "needs_background": "light"
     },
     "output_type": "display_data"
    }
   ],
   "source": [
    "rest_645[rest_645.max_freq_orig<0.15].plot.scatter(\"predicted\", \"phys_record\")"
   ]
  },
  {
   "cell_type": "code",
   "execution_count": 42,
   "metadata": {},
   "outputs": [
    {
     "data": {
      "text/plain": [
       "<matplotlib.axes._subplots.AxesSubplot at 0x7f50eba71240>"
      ]
     },
     "execution_count": 42,
     "metadata": {},
     "output_type": "execute_result"
    },
    {
     "data": {
      "image/png": "[encoded data removed]",
      "text/plain": [
       "<Figure size 432x288 with 1 Axes>"
      ]
     },
     "metadata": {
      "needs_background": "light"
     },
     "output_type": "display_data"
    }
   ],
   "source": [
    "rest_645[rest_645.max_freq_orig>=0.15].plot.scatter(\"predicted\", \"phys_record\")"
   ]
  },
  {
   "cell_type": "code",
   "execution_count": 40,
   "metadata": {},
   "outputs": [
    {
     "data": {
      "text/plain": [
       "<matplotlib.axes._subplots.AxesSubplot at 0x7f50ebc60128>"
      ]
     },
     "execution_count": 40,
     "metadata": {},
     "output_type": "execute_result"
    },
    {
     "data": {
      "image/png": "[encoded data removed]",
      "text/plain": [
       "<Figure size 432x288 with 1 Axes>"
      ]
     },
     "metadata": {
      "needs_background": "light"
     },
     "output_type": "display_data"
    }
   ],
   "source": [
    "rest_1400[rest_1400.max_freq_orig<0.15].plot.scatter(\"predicted\", \"phys_record\")"
   ]
  },
  {
   "cell_type": "code",
   "execution_count": 41,
   "metadata": {},
   "outputs": [
    {
     "data": {
      "text/plain": [
       "<matplotlib.axes._subplots.AxesSubplot at 0x7f50ebf5f390>"
      ]
     },
     "execution_count": 41,
     "metadata": {},
     "output_type": "execute_result"
    },
    {
     "data": {
      "image/png": "[encoded data removed]",
      "text/plain": [
       "<Figure size 432x288 with 1 Axes>"
      ]
     },
     "metadata": {
      "needs_background": "light"
     },
     "output_type": "display_data"
    }
   ],
   "source": [
    "rest_1400[rest_1400.max_freq_orig>=0.15].plot.scatter(\"predicted\", \"phys_record\")"
   ]
  }
 ],
 "metadata": {
  "kernelspec": {
   "display_name": "sag_view",
   "language": "python",
   "name": "sag_view"
  },
  "language_info": {
   "codemirror_mode": {
    "name": "ipython",
    "version": 3
   },
   "file_extension": ".py",
   "mimetype": "text/x-python",
   "name": "python",
   "nbconvert_exporter": "python",
   "pygments_lexer": "ipython3",
   "version": "3.6.10"
  }
 },
 "nbformat": 4,
 "nbformat_minor": 4
}
