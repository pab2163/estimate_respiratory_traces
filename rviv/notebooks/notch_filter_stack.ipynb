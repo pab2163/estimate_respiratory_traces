{
 "cells": [
  {
   "cell_type": "code",
   "execution_count": 1,
   "metadata": {},
   "outputs": [],
   "source": [
    "#import\n",
    "import numpy as np \n",
    "from scipy import signal\n",
    "import matplotlib.pyplot as plt\n",
    "import os"
   ]
  },
  {
   "cell_type": "code",
   "execution_count": 2,
   "metadata": {},
   "outputs": [],
   "source": [
    "file = \"./sub-A00044084_ses-FLU1_task-rest_acq-1400_bold_full.1D\""
   ]
  },
  {
   "cell_type": "code",
   "execution_count": 3,
   "metadata": {},
   "outputs": [],
   "source": [
    "#export\n",
    "def filter_notch(data, quality=5):\n",
    "    b, a = signal.iirnotch(0.7, quality, 11.42857)\n",
    "    y = signal.filtfilt(b, a, x = data, axis = 0)\n",
    "    b, a = signal.iirnotch(1.43, quality, 11.42857)\n",
    "    y = signal.filtfilt(b, a, x = y, axis = 0)\n",
    "    b, a = signal.iirnotch(2.1, quality, 11.42857)\n",
    "    y = signal.filtfilt(b, a, x = y, axis = 0)\n",
    "    return y"
   ]
  },
  {
   "cell_type": "code",
   "execution_count": 4,
   "metadata": {},
   "outputs": [],
   "source": [
    "#fire run_notch\n",
    "def run_notch(file):\n",
    "    stack = np.genfromtxt(file)\n",
    "    filtered_notch = filter_notch(stack)\n",
    "    name = file.split(os.path.sep)[-1].split(\".\")[0]\n",
    "    np.savetxt(\"{}_filtered.1D\".format(name), filtered_notch, fmt=\"%0.06f\")"
   ]
  },
  {
   "cell_type": "code",
   "execution_count": 5,
   "metadata": {},
   "outputs": [],
   "source": [
    "#export\n",
    "def plot_freq(data):\n",
    "    sampling_rate = 1/(1.4/16)\n",
    "    time = np.arange(0, 6464, 1/sampling_rate)\n",
    "    fourier_transform = np.fft.rfft(data)\n",
    "    abs_fourier_transform = np.abs(fourier_transform)\n",
    "    power_spectrum = np.square(abs_fourier_transform)\n",
    "    frequency = np.linspace(0, sampling_rate/2, len(power_spectrum))\n",
    "    plt.plot(frequency, power_spectrum)\n",
    "    plt.xlim(0, 2)\n",
    "    plt.yscale(\"log\")\n",
    "    plt.show()"
   ]
  },
  {
   "cell_type": "code",
   "execution_count": 6,
   "metadata": {},
   "outputs": [],
   "source": [
    "run_notch(file)"
   ]
  },
  {
   "cell_type": "code",
   "execution_count": 7,
   "metadata": {},
   "outputs": [
    {
     "ename": "NameError",
     "evalue": "name 'filtered_stack' is not defined",
     "output_type": "error",
     "traceback": [
      "\u001b[0;31m---------------------------------------------------------------------------\u001b[0m",
      "\u001b[0;31mNameError\u001b[0m                                 Traceback (most recent call last)",
      "\u001b[0;32m<ipython-input-7-138bd60530c9>\u001b[0m in \u001b[0;36m<module>\u001b[0;34m\u001b[0m\n\u001b[1;32m      1\u001b[0m \u001b[0;32mfor\u001b[0m \u001b[0mi\u001b[0m \u001b[0;32min\u001b[0m \u001b[0mrange\u001b[0m\u001b[0;34m(\u001b[0m\u001b[0;36m6\u001b[0m\u001b[0;34m)\u001b[0m\u001b[0;34m:\u001b[0m\u001b[0;34m\u001b[0m\u001b[0;34m\u001b[0m\u001b[0m\n\u001b[0;32m----> 2\u001b[0;31m     \u001b[0mplot_freq\u001b[0m\u001b[0;34m(\u001b[0m\u001b[0mfiltered_stack\u001b[0m\u001b[0;34m[\u001b[0m\u001b[0;34m:\u001b[0m\u001b[0;34m,\u001b[0m \u001b[0mi\u001b[0m\u001b[0;34m]\u001b[0m\u001b[0;34m)\u001b[0m\u001b[0;34m\u001b[0m\u001b[0;34m\u001b[0m\u001b[0m\n\u001b[0m",
      "\u001b[0;31mNameError\u001b[0m: name 'filtered_stack' is not defined"
     ]
    }
   ],
   "source": [
    "for i in range(6):\n",
    "    plot_freq(filtered_stack[:, i])"
   ]
  },
  {
   "cell_type": "code",
   "execution_count": null,
   "metadata": {},
   "outputs": [],
   "source": [
    "plt.plot(filtered_stack)"
   ]
  },
  {
   "cell_type": "code",
   "execution_count": null,
   "metadata": {},
   "outputs": [],
   "source": [
    "\n",
    "for start in range(i, stack.shape[0], 500):\n",
    "    length = start+500\n",
    "    plt.figure(figsize=(15,9))\n",
    "    plt.plot(stack[start:length, -1])\n",
    "    plt.plot(filtered_stack[start:length, -1])"
   ]
  },
  {
   "cell_type": "code",
   "execution_count": null,
   "metadata": {},
   "outputs": [],
   "source": []
  },
  {
   "cell_type": "code",
   "execution_count": null,
   "metadata": {},
   "outputs": [],
   "source": []
  }
 ],
 "metadata": {
  "kernelspec": {
   "display_name": "Python 3",
   "language": "python",
   "name": "python3"
  },
  "language_info": {
   "codemirror_mode": {
    "name": "ipython",
    "version": 3
   },
   "file_extension": ".py",
   "mimetype": "text/x-python",
   "name": "python",
   "nbconvert_exporter": "python",
   "pygments_lexer": "ipython3",
   "version": "3.6.10"
  }
 },
 "nbformat": 4,
 "nbformat_minor": 4
}
