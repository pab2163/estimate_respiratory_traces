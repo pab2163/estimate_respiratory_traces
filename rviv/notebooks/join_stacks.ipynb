{
 "cells": [
  {
   "cell_type": "code",
   "execution_count": 7,
   "metadata": {},
   "outputs": [],
   "source": [
    "#import\n",
    "import pandas as pd\n",
    "import numpy as np\n",
    "from pathlib import Path\n",
    "import os\n",
    "import matplotlib.pyplot as plt\n",
    "from scipy import signal"
   ]
  },
  {
   "cell_type": "code",
   "execution_count": 2,
   "metadata": {},
   "outputs": [],
   "source": [
    "#export\n",
    "TIMESLICES=16\n",
    "SCANS=404\n",
    "FILENAME = \"task-rest_acq-1400_bold_full.1D\""
   ]
  },
  {
   "cell_type": "code",
   "execution_count": 3,
   "metadata": {},
   "outputs": [],
   "source": [
    "#export\n",
    "def getids(filepath):\n",
    "    files = list(Path(filepath).glob(\"*1D\"))\n",
    "    ids = set()\n",
    "    for file in files:\n",
    "        imid = \"_\".join(str(file).split(\"_\")[1:3])\n",
    "        ids.add(imid)\n",
    "    return ids, files"
   ]
  },
  {
   "cell_type": "code",
   "execution_count": 4,
   "metadata": {
    "scrolled": true
   },
   "outputs": [],
   "source": [
    "#export\n",
    "def reshape_stacks(ids, files):\n",
    "    for imid in ids:\n",
    "        stack = [stack_entry for stack_entry in files if imid in str(stack_entry)]\n",
    "        stack = sorted(stack)\n",
    "        assert len(stack) == TIMESLICES\n",
    "        full_stack = [np.genfromtxt(stack_entry) for stack_entry in stack]\n",
    "        stack_array = np.array(full_stack)\n",
    "        try:\n",
    "            stack_reordered = np.reshape(stack_array, (TIMESLICES*SCANS, 6), order=\"F\")\n",
    "        except ValueError as e:\n",
    "            print(e)\n",
    "            continue\n",
    "        assert (stack_reordered[16, :] == full_stack[0][1, :]).all\n",
    "        np.savetxt(\"{}_{}\".format(imid, FILENAME), stack_reordered, fmt=\"%.04f\")"
   ]
  },
  {
   "cell_type": "code",
   "execution_count": 5,
   "metadata": {
    "scrolled": true
   },
   "outputs": [
    {
     "name": "stdout",
     "output_type": "stream",
     "text": [
      "cannot reshape array of size 7776 into shape (6464,6)\n",
      "cannot reshape array of size 14880 into shape (6464,6)\n"
     ]
    }
   ],
   "source": [
    "#fire run\n",
    "def run(filepath):\n",
    "    filepath = Path(filepath)\n",
    "    ids, files = getids(filepath)\n",
    "    reshape_stacks(ids, files)\n"
   ]
  },
  {
   "cell_type": "code",
   "execution_count": null,
   "metadata": {},
   "outputs": [],
   "source": [
    "run(\"../../data/stacks/\")"
   ]
  },
  {
   "cell_type": "code",
   "execution_count": null,
   "metadata": {},
   "outputs": [],
   "source": [
    "sampling_rate = 1/(1.4/16)\n",
    "time = np.arange(0, 6464, 1/sampling_rate)\n",
    "data = stack_reordered[:, -1]\n",
    "fourier_transform = np.fft.rfft(data)\n",
    "abs_fourier_transform = np.abs(fourier_transform)\n",
    "power_spectrum = np.square(abs_fourier_transform)\n",
    "frequency = np.linspace(0, sampling_rate/2, len(power_spectrum))\n",
    "plt.plot(frequency, power_spectrum)\n",
    "plt.xlim(0, 6)\n",
    "plt.yscale(\"log\")\n",
    "plt.show()"
   ]
  },
  {
   "cell_type": "code",
   "execution_count": null,
   "metadata": {},
   "outputs": [],
   "source": [
    "power_spectrum[:, ]"
   ]
  },
  {
   "cell_type": "code",
   "execution_count": null,
   "metadata": {},
   "outputs": [],
   "source": [
    "plt.plot?"
   ]
  },
  {
   "cell_type": "code",
   "execution_count": null,
   "metadata": {},
   "outputs": [],
   "source": []
  }
 ],
 "metadata": {
  "kernelspec": {
   "display_name": "Python 3",
   "language": "python",
   "name": "python3"
  },
  "language_info": {
   "codemirror_mode": {
    "name": "ipython",
    "version": 3
   },
   "file_extension": ".py",
   "mimetype": "text/x-python",
   "name": "python",
   "nbconvert_exporter": "python",
   "pygments_lexer": "ipython3",
   "version": "3.6.10"
  }
 },
 "nbformat": 4,
 "nbformat_minor": 4
}
